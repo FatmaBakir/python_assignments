{
  "nbformat": 4,
  "nbformat_minor": 0,
  "metadata": {
    "colab": {
      "name": "leap_year_finder.ipynb",
      "provenance": []
    },
    "kernelspec": {
      "name": "python3",
      "display_name": "Python 3"
    },
    "language_info": {
      "name": "python"
    }
  },
  "cells": [
    {
      "cell_type": "markdown",
      "metadata": {
        "id": "udvzuRo6Vo-m"
      },
      "source": [
        "###Task:\n",
        "\n",
        "###Find out if a given year is a \"leap\" year.\n",
        "\n",
        "In the Gregorian calendar, three criteria must be taken into account to identify leap years:\n",
        "\n",
        "The year must be evenly divisible by 4;\n",
        "\n",
        "If the year can also be evenly divided by 100, it is not a leap year; unless...\n",
        "\n",
        "The year is also evenly divisible by 400. Then it is a leap year.\n",
        "\n",
        "According to these rules, the years 2000 and 2400 are leap years, while 1800, 1900, 2100, 2200, 2300, and 2500 are not the leap years.\n",
        "\n",
        "Write a Python program that prints such as \"2020 is a leap year\" if the given year by the user is a leap year, prints such as \"2019 is not a leap year\" otherwise."
      ]
    },
    {
      "cell_type": "code",
      "metadata": {
        "colab": {
          "base_uri": "https://localhost:8080/"
        },
        "id": "7o2WaFlMVlKq",
        "outputId": "59bcc286-8f53-478a-8889-58fd21ed9bbb"
      },
      "source": [
        "def leap_year_finder(year):\n",
        "  if year % 400 == 0:\n",
        "    return (f\"{year} is a leap year.\")\n",
        "  elif year % 4 == 0 and year % 100 !=0:\n",
        "    return (f\"{year} is a leap year.\")\n",
        "  else:\n",
        "    return (f\"{year} is not a leap year.\")\n",
        "\n",
        "print(leap_year_finder(1636))"
      ],
      "execution_count": 15,
      "outputs": [
        {
          "output_type": "stream",
          "text": [
            "1636 is a leap year.\n"
          ],
          "name": "stdout"
        }
      ]
    }
  ]
}
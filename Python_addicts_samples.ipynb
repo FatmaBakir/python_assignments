{
  "nbformat": 4,
  "nbformat_minor": 0,
  "metadata": {
    "colab": {
      "name": "Python_addicts_samples.ipynb",
      "provenance": []
    },
    "kernelspec": {
      "name": "python3",
      "display_name": "Python 3"
    },
    "language_info": {
      "name": "python"
    }
  },
  "cells": [
    {
      "cell_type": "markdown",
      "metadata": {
        "id": "n9dkcNTlbPTl"
      },
      "source": [
        "###Asama 1.\n",
        "·     Encode isimli bir fonksiyon olusturacagiz.\n",
        "·     Bu fonksiyonla, bize verilen string de yer alan tum kucuk sesli harfleri numaralarla degistirecegiz.\n",
        "\n",
        "a -> 1\n",
        "e -> 2\n",
        "i -> 3\n",
        "o -> 4\n",
        "u -> 5\n",
        "\n",
        "Ornek: string = ‘hello’  istenilen sonuc ‘h2ll4’\n",
        "\n",
        "###Asama 2.\n",
        "·     Decode isimli bir fonksiyon olusturacagiz\n",
        "·     Bize verilen stringde yer alan numaralari kucuk sesli harflere cevirecegiz.\n",
        "1 -> a\n",
        "2 -> e\n",
        "3-> i\n",
        "4 -> o\n",
        "5 -> u\n",
        "\n",
        "Ornek: string = ‘h3 th2r2’ istenilen sonuc ‘hi there’\n",
        "\n",
        "Testler:\n",
        "string = 'hello' ,  encode = 'h2ll4' decode = ‘hello’\n",
        "string = 'How are you today?' encode = 'H4w 1r2 y45 t4d1y?' decode =  'How are you today?' \n",
        "string = 'This is an encoding test.'  ' encode = ‘Th3s 3s 1n 2nc4d3ng t2st.' decode = 'This is an encoding test.'"
      ]
    },
    {
      "cell_type": "code",
      "metadata": {
        "colab": {
          "base_uri": "https://localhost:8080/"
        },
        "id": "X7Av7BK5T9aO",
        "outputId": "e12bd825-6aef-451d-e15a-29c90e3c06dd"
      },
      "source": [
        "def encode(text):\n",
        "\n",
        "  myDict = dict(a=\"1\", e=\"2\", i=\"3\", o=\"4\", u=\"5\")\n",
        "  for i in text.lower():\n",
        "    for key, value in myDict.items():\n",
        "      if i == key:\n",
        "        text = text.replace(i, value)\n",
        "      elif i == value:\n",
        "        text = text.replace(i, key)\n",
        "  return(text)\n",
        "\n",
        "print(encode(\"How are you\"))\n",
        "      "
      ],
      "execution_count": 20,
      "outputs": [
        {
          "output_type": "stream",
          "text": [
            "H4w 1r2 y45\n"
          ],
          "name": "stdout"
        }
      ]
    },
    {
      "cell_type": "code",
      "metadata": {
        "id": "f0E_8UMuce0n"
      },
      "source": [
        "def encode(st):\n",
        "    transTable = st.maketrans('aeiou', '12345')\n",
        "    return st.translate(transTable)\n",
        "def decode(st):\n",
        "    transTable = st.maketrans('12345', 'aeiou')\n",
        "    return st.translate(transTable)"
      ],
      "execution_count": null,
      "outputs": []
    },
    {
      "cell_type": "markdown",
      "metadata": {
        "id": "Bb70-U-eeJLW"
      },
      "source": [
        ". Write a Python program to find the median of three values. Go to the editor\n",
        "Expected Output:\n",
        "\n",
        "Input first number: 15                                                  \n",
        "Input second number: 26                                                 \n",
        "Input third number: 29                                                  \n",
        "The median is 26.0 "
      ]
    },
    {
      "cell_type": "code",
      "metadata": {
        "colab": {
          "base_uri": "https://localhost:8080/"
        },
        "id": "vuw0zHFwb5EA",
        "outputId": "6e4cfa75-4fc1-473f-b4ff-88ffb9e3dc92"
      },
      "source": [
        "a = float(input(\"Input first number: \"))\n",
        "b = float(input(\"Input second number: \"))\n",
        "c = float(input(\"Input third number: \"))\n",
        "if a > b:\n",
        "    if a < c:\n",
        "        median = a\n",
        "    elif b > c:\n",
        "        median = b\n",
        "    else:\n",
        "        median = c\n",
        "else:\n",
        "    if a > c:\n",
        "        median = a\n",
        "    elif b < c:\n",
        "        median = b\n",
        "    else:\n",
        "        median = c\n",
        "\n",
        "print(\"The median is\", median)\n",
        "\n"
      ],
      "execution_count": 21,
      "outputs": [
        {
          "output_type": "stream",
          "text": [
            "Input first number: 12\n",
            "Input second number: 56\n",
            "Input third number: 89\n",
            "The median is 56.0\n"
          ],
          "name": "stdout"
        }
      ]
    }
  ]
}
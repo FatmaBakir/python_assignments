{
  "nbformat": 4,
  "nbformat_minor": 0,
  "metadata": {
    "colab": {
      "name": "Python_addicts_sample.ipynb",
      "provenance": [],
      "authorship_tag": "ABX9TyPIfT1N9EBiPc+U5xw8ovE5"
    },
    "kernelspec": {
      "name": "python3",
      "display_name": "Python 3"
    },
    "language_info": {
      "name": "python"
    }
  },
  "cells": [
    {
      "cell_type": "markdown",
      "metadata": {
        "id": "n9dkcNTlbPTl"
      },
      "source": [
        "###Asama 1.\n",
        "·     Encode isimli bir fonksiyon olusturacagiz.\n",
        "·     Bu fonksiyonla, bize verilen string de yer alan tum kucuk sesli harfleri numaralarla degistirecegiz.\n",
        "\n",
        "a -> 1\n",
        "e -> 2\n",
        "i -> 3\n",
        "o -> 4\n",
        "u -> 5\n",
        "\n",
        "Ornek: string = ‘hello’  istenilen sonuc ‘h2ll4’\n",
        "\n",
        "###Asama 2.\n",
        "·     Decode isimli bir fonksiyon olusturacagiz\n",
        "·     Bize verilen stringde yer alan numaralari kucuk sesli harflere cevirecegiz.\n",
        "1 -> a\n",
        "2 -> e\n",
        "3-> i\n",
        "4 -> o\n",
        "5 -> u\n",
        "\n",
        "Ornek: string = ‘h3 th2r2’ istenilen sonuc ‘hi there’\n",
        "\n",
        "Testler:\n",
        "string = 'hello' ,  encode = 'h2ll4' decode = ‘hello’\n",
        "string = 'How are you today?' encode = 'H4w 1r2 y45 t4d1y?' decode =  'How are you today?' \n",
        "string = 'This is an encoding test.'  ' encode = ‘Th3s 3s 1n 2nc4d3ng t2st.' decode = 'This is an encoding test.'"
      ]
    },
    {
      "cell_type": "code",
      "metadata": {
        "colab": {
          "base_uri": "https://localhost:8080/"
        },
        "id": "X7Av7BK5T9aO",
        "outputId": "e12bd825-6aef-451d-e15a-29c90e3c06dd"
      },
      "source": [
        "def encode(text):\n",
        "\n",
        "  myDict = dict(a=\"1\", e=\"2\", i=\"3\", o=\"4\", u=\"5\")\n",
        "  for i in text.lower():\n",
        "    for key, value in myDict.items():\n",
        "      if i == key:\n",
        "        text = text.replace(i, value)\n",
        "      elif i == value:\n",
        "        text = text.replace(i, key)\n",
        "  return(text)\n",
        "\n",
        "print(encode(\"How are you\"))\n",
        "      "
      ],
      "execution_count": 20,
      "outputs": [
        {
          "output_type": "stream",
          "text": [
            "H4w 1r2 y45\n"
          ],
          "name": "stdout"
        }
      ]
    }
  ]
}
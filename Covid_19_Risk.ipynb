{
  "nbformat": 4,
  "nbformat_minor": 0,
  "metadata": {
    "colab": {
      "name": "Covid_19_Risk.ipynb",
      "provenance": [],
      "collapsed_sections": []
    },
    "kernelspec": {
      "name": "python3",
      "display_name": "Python 3"
    },
    "language_info": {
      "name": "python"
    }
  },
  "cells": [
    {
      "cell_type": "markdown",
      "metadata": {
        "id": "sOekZedeS4iC"
      },
      "source": [
        "Problem :\n",
        "\n",
        "Task : Estimating the risk of death from coronavirus. Write a program that;\n",
        "\n",
        "Takes \"Yes\" or \"No\" from the user as an answer to the following questions :\n",
        "\n",
        "Are you a cigarette addict older than 75 years old? Variable → age\n",
        "\n",
        "Do you have a severe chronic disease? Variable → chronic\n",
        "\n",
        "Is your immune system too weak? Variable → immune\n",
        "\n",
        "Set a logical algorithm using boolean logic operators (and/or) and use if-statements with the given variables in order to print out us a message : \"You are in risky group\"(if True ) or \"You are not in risky group\" (if False)."
      ]
    },
    {
      "cell_type": "code",
      "metadata": {
        "colab": {
          "base_uri": "https://localhost:8080/"
        },
        "id": "KQAnKimUSvrg",
        "outputId": "af0c34f1-68b2-4103-9db8-c5ebb05ab6bf"
      },
      "source": [
        "age = input(\"Are you a cigarette addict older than 75 years old?: \").title().strip()\n",
        "chronic = input(\"Do you have a severe chronic disease?: \").title().strip()\n",
        "immune = input(\"Is your immune system too weak?: \").title().strip()\n",
        "\n",
        "if age == \"Yes\" or chronic == \"Yes\" or immune == \"Yes\":\n",
        "  print(\"You are in risky group\")\n",
        "else: \n",
        "  print(\"You are not in risky group\")\n",
        "\n",
        "  "
      ],
      "execution_count": 1,
      "outputs": [
        {
          "output_type": "stream",
          "text": [
            "Are you a cigarette addict older than 75 years old?: yes\n",
            "Do you have a severe chronic disease?: no\n",
            "Is your immune system too weak?: no\n",
            "You are in risky group\n"
          ],
          "name": "stdout"
        }
      ]
    }
  ]
}
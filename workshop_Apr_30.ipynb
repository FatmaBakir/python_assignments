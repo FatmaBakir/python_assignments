{
  "nbformat": 4,
  "nbformat_minor": 0,
  "metadata": {
    "colab": {
      "name": "workshop_Apr_30.ipynb",
      "provenance": [],
      "authorship_tag": "ABX9TyPRxoCoiK1P9WNxcIivnZP8"
    },
    "kernelspec": {
      "name": "python3",
      "display_name": "Python 3"
    },
    "language_info": {
      "name": "python"
    }
  },
  "cells": [
    {
      "cell_type": "markdown",
      "metadata": {
        "id": "kgox1qZt4eDv"
      },
      "source": [
        "With the given list below; get the following output:\n",
        "\n",
        "list_1 = [[12,23], [19,41],[2,109], [25,1], [87,103]] **bold text**\n",
        "\n",
        "expected_output = [[23, 12], [41, 19], [109, 2], [1,25], [103, 87]\n"
      ]
    },
    {
      "cell_type": "code",
      "metadata": {
        "colab": {
          "base_uri": "https://localhost:8080/"
        },
        "id": "dq6OHs3i4Hnc",
        "outputId": "49f0d166-f4d1-4629-9fa0-10a2df4932d2"
      },
      "source": [
        "list_1 = [[12,23], [19,41],[2,109], [25,1], [87,103]]\n",
        "list_1_updated = []\n",
        "\n",
        "# for i in list_1:\n",
        "#   i = list(reversed(i))\n",
        "#   list_1_updated.append(i)\n",
        "\n",
        "# print(list_1_updated)\n",
        "\n",
        "for i in list_1:\n",
        "  i.reverse()\n",
        "  list_1_updated.append(i)\n",
        "\n",
        "print(list_1_updated)\n",
        "\n",
        "\n",
        "# i = 0\n",
        "# while i < len(list_1):\n",
        "#     tem_list = list_1[i][1]\n",
        "#     list_1[i][1] = list_1[i][0]\n",
        "#     list_1[i][0] = tem_list\n",
        "#     print(list_1)\n",
        "#     i += 1\n",
        "\n",
        "\n",
        "\n"
      ],
      "execution_count": 5,
      "outputs": [
        {
          "output_type": "stream",
          "text": [
            "[[23, 12], [41, 19], [109, 2], [1, 25], [103, 87]]\n"
          ],
          "name": "stdout"
        }
      ]
    },
    {
      "cell_type": "markdown",
      "metadata": {
        "id": "DQylL08o52wo"
      },
      "source": [
        "------------------------------------------------------------------------------------------------------------\n"
      ]
    },
    {
      "cell_type": "markdown",
      "metadata": {
        "id": "K_QKevvE5bue"
      },
      "source": [
        "With the below list; get the following output:\n",
        "\n",
        "list_1 = [[12,23], [19,41],[2,109], [25,1], [87,103]]\n",
        "\n",
        "expected_output = [1, 2, 12, 19, 23, 25, 41, 87, 103, 109]"
      ]
    },
    {
      "cell_type": "code",
      "metadata": {
        "colab": {
          "base_uri": "https://localhost:8080/"
        },
        "id": "sO7E5lgs50XH",
        "outputId": "04325085-b6fd-4b7e-c865-4d3ea96faf22"
      },
      "source": [
        "list_1 = [[12,23], [19,41],[2,109], [25,1], [87,103]]\n",
        "list_1_updated = []\n",
        "\n",
        "for i in list_1:\n",
        "  for y in i:\n",
        "    list_1_updated.append(y)\n",
        "\n",
        "# list_1_updated.sort()\n",
        "print(sorted(list_1_updated))\n",
        "\n",
        "\n",
        "\n"
      ],
      "execution_count": 23,
      "outputs": [
        {
          "output_type": "stream",
          "text": [
            "[1, 2, 12, 19, 23, 25, 41, 87, 103, 109]\n"
          ],
          "name": "stdout"
        }
      ]
    },
    {
      "cell_type": "markdown",
      "metadata": {
        "id": "qU7wpphb57R9"
      },
      "source": [
        "-----------------------------------------------------------------------------------------------------------------"
      ]
    },
    {
      "cell_type": "markdown",
      "metadata": {
        "id": "XCNgyOQt5_of"
      },
      "source": [
        "With the below list; get the following output:\n",
        "\n",
        "list_1 = [[12,23], [19,41],[2,109], [25,1], [87,103]]\n",
        "\n",
        "expected_output = [[1,109], [2, 103], [12, 87], [19, 41], [23,25]]"
      ]
    },
    {
      "cell_type": "code",
      "metadata": {
        "colab": {
          "base_uri": "https://localhost:8080/"
        },
        "id": "f4V3y7P96jqG",
        "outputId": "6d5d16b8-aed2-4682-9cf3-c8cc45368c23"
      },
      "source": [
        "list_1 = [[12,23], [19,41],[2,109], [25,1], [87,103]]\n",
        "list_1_updated = []\n",
        "\n",
        "for i in list_1:\n",
        "  for y in i:\n",
        "    list_1_updated.append(y)\n",
        "\n",
        "new_list = sorted(list_1_updated)\n",
        "print(new_list)\n",
        "new_list_updated = []\n",
        "y = []\n",
        "\n",
        "for i in range(len(new_list)):\n",
        "  \n",
        "\n",
        "#   list_1 = [[12, 23], [19, 41], [2, 109], [25, 1], [87,103]]\n",
        "# list_2 = []\n",
        "# uzunluk = len(list_1)\n",
        "# for i in range(uzunluk):\n",
        "#    list_2.append(list_1[i][0])\n",
        "#    list_2.append(list_1[i][1])\n",
        "# list_2 = sorted(list_2)\n",
        "# for i in range(len(list_1)):\n",
        "#     list_1[i][0]= list_2[i]\n",
        "#     list_1[i][1]= list_2[-(i+1)]\n",
        "# print(list_1)\n",
        "\n",
        "\n",
        "\n"
      ],
      "execution_count": 25,
      "outputs": [
        {
          "output_type": "stream",
          "text": [
            "[1, 2, 12, 19, 23, 25, 41, 87, 103, 109]\n"
          ],
          "name": "stdout"
        }
      ]
    },
    {
      "cell_type": "markdown",
      "metadata": {
        "id": "cr3fjCxp6tU6"
      },
      "source": [
        "---------------------------------------------------------------------------------------------------------------------------------------------\n"
      ]
    },
    {
      "cell_type": "markdown",
      "metadata": {
        "id": "7PbcyZmK6wzk"
      },
      "source": [
        "Find the Armstrong numbers in the range of 500."
      ]
    },
    {
      "cell_type": "code",
      "metadata": {
        "colab": {
          "base_uri": "https://localhost:8080/"
        },
        "id": "1Up5OEIR6v3j",
        "outputId": "40d8e43b-870b-4d99-cf64-c4610c7f21f2"
      },
      "source": [
        "for i in range(5000):\n",
        "    str_1 = list(str(i))\n",
        "    power = len(str_1)\n",
        "    sum = 0\n",
        "    for k in str_1:\n",
        "        sum += int(k)**power\n",
        "    if sum == i :\n",
        "        print(i)\n",
        "  \n",
        "\n"
      ],
      "execution_count": 7,
      "outputs": [
        {
          "output_type": "stream",
          "text": [
            "0\n",
            "1\n",
            "2\n",
            "3\n",
            "4\n",
            "5\n",
            "6\n",
            "7\n",
            "8\n",
            "9\n",
            "153\n",
            "370\n",
            "371\n",
            "407\n",
            "1634\n"
          ],
          "name": "stdout"
        }
      ]
    },
    {
      "cell_type": "markdown",
      "metadata": {
        "id": "LU-QIXUjKpux"
      },
      "source": [
        "-----------------------------------------------------------------------------------------------------------------------"
      ]
    },
    {
      "cell_type": "markdown",
      "metadata": {
        "id": "xdJDuIwpKwGo"
      },
      "source": [
        "Write a while-loop that prints the even numbers from 200 to 150 in descending order."
      ]
    },
    {
      "cell_type": "code",
      "metadata": {
        "colab": {
          "base_uri": "https://localhost:8080/"
        },
        "id": "ueqOK1EJKugb",
        "outputId": "8d46a989-ac68-4051-e271-b3b723463d96"
      },
      "source": [
        "i = 200\n",
        "while i >=151:\n",
        "    i -= 2\n",
        "    print(i)"
      ],
      "execution_count": 4,
      "outputs": [
        {
          "output_type": "stream",
          "text": [
            "198\n",
            "196\n",
            "194\n",
            "192\n",
            "190\n",
            "188\n",
            "186\n",
            "184\n",
            "182\n",
            "180\n",
            "178\n",
            "176\n",
            "174\n",
            "172\n",
            "170\n",
            "168\n",
            "166\n",
            "164\n",
            "162\n",
            "160\n",
            "158\n",
            "156\n",
            "154\n",
            "152\n",
            "150\n"
          ],
          "name": "stdout"
        }
      ]
    }
  ]
}
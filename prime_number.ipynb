{
  "nbformat": 4,
  "nbformat_minor": 0,
  "metadata": {
    "colab": {
      "name": "prime_number.ipynb",
      "provenance": [],
      "authorship_tag": "ABX9TyMuU4SdmBOKXKefgc6VWF4J",
      "include_colab_link": true
    },
    "kernelspec": {
      "name": "python3",
      "display_name": "Python 3"
    },
    "language_info": {
      "name": "python"
    }
  },
  "cells": [
    {
      "cell_type": "markdown",
      "metadata": {
        "id": "view-in-github",
        "colab_type": "text"
      },
      "source": [
        "<a href=\"https://colab.research.google.com/github/FatmaBakir/python_assignments/blob/main/prime_number.ipynb\" target=\"_parent\"><img src=\"https://colab.research.google.com/assets/colab-badge.svg\" alt=\"Open In Colab\"/></a>"
      ]
    },
    {
      "cell_type": "markdown",
      "metadata": {
        "id": "NObEMKZpaDuj"
      },
      "source": [
        "Task : Write a program that takes a number from the user and prints the result to check if it is a prime number.\n"
      ]
    },
    {
      "cell_type": "code",
      "metadata": {
        "colab": {
          "base_uri": "https://localhost:8080/"
        },
        "id": "9BS3em5tXyaC",
        "outputId": "7b9e35c9-6a1f-4b1f-f68c-93d03e524a3f"
      },
      "source": [
        "n = int(input(\"Please enter a number to check if it's a prime number: \"))\n",
        "\n",
        "count = 0\n",
        "for i in range(1, n+1):\n",
        "  if not n % i:\n",
        "    count +=1\n",
        "if (n==0) or (n==1) or (count>=3):\n",
        "  print(n, \"is not a prime number\")\n",
        "else:\n",
        "  print(n, \"is a prime number\")"
      ],
      "execution_count": 4,
      "outputs": [
        {
          "output_type": "stream",
          "text": [
            "Please enter a number to check if it's a prime number: 9\n",
            "9 is not a prime number\n"
          ],
          "name": "stdout"
        }
      ]
    }
  ]
}
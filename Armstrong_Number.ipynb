{
  "nbformat": 4,
  "nbformat_minor": 0,
  "metadata": {
    "colab": {
      "name": "Armstrong_Number.ipynb",
      "provenance": []
    },
    "kernelspec": {
      "name": "python3",
      "display_name": "Python 3"
    },
    "language_info": {
      "name": "python"
    }
  },
  "cells": [
    {
      "cell_type": "markdown",
      "metadata": {
        "id": "5EK4CanMtjwf"
      },
      "source": [
        "Task:\n",
        "\n",
        "Find out if a given number is an \"Armstrong Number\".\n",
        "\n",
        "An n-digit number that is the sum of the nth powers of its digits is called an n-Armstrong number. Examples :\n",
        "371 = 33 + 73 + 13;\n",
        "9474 = 94 + 44 + 74 + 44;\n",
        "93084 = 95 + 35 + 05 + 85 + 45.\n",
        "\n",
        "Write a Python program that;\n",
        "takes a positive integer number from the user,\n",
        "checks the entered number if it is Armstrong,\n",
        "consider the negative, float and any entries other than numeric values then display a warning message to the user."
      ]
    },
    {
      "cell_type": "code",
      "metadata": {
        "colab": {
          "base_uri": "https://localhost:8080/"
        },
        "id": "nFGxWoXctdhZ",
        "outputId": "10379d96-23c4-4737-f79c-3a72637f8129"
      },
      "source": [
        "x = input(\"Please enter a positive number: \")\n",
        "x_list = sorted(x)\n",
        "\n",
        "sum = 0\n",
        "while x.isnumeric():\n",
        "  for i in x_list:\n",
        "    sum += int(i) ** len(x_list)\n",
        "  if sum == int(x):\n",
        "    print(x, \"is an Armstrong number\")\n",
        "  else:\n",
        "      print(x, \"is not an Armstrong number\")\n",
        "  break\n",
        "\n",
        "else:\n",
        "    print(\"It is an invalid entry. Don't use non-numeric, float, or negative values!\")\n"
      ],
      "execution_count": 52,
      "outputs": [
        {
          "output_type": "stream",
          "text": [
            "Please enter a positive number: 371\n",
            "371 is an Armstrong number\n"
          ],
          "name": "stdout"
        }
      ]
    }
  ]
}
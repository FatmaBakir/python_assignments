{
  "nbformat": 4,
  "nbformat_minor": 0,
  "metadata": {
    "colab": {
      "name": "Letter_count.ipynb",
      "provenance": []
    },
    "kernelspec": {
      "name": "python3",
      "display_name": "Python 3"
    },
    "language_info": {
      "name": "python"
    }
  },
  "cells": [
    {
      "cell_type": "markdown",
      "metadata": {
        "id": "32Kgac2wEGSC"
      },
      "source": [
        "Task:\n",
        "\n",
        "Count the number of each letter in a sentence.\n",
        "\n",
        "The department you work for undertook a project construction that makes word / text analysis. You are asked to calculate the number of letters or any chars in the sentences entered under this project.\n",
        "\n",
        "Write a Python program that;\n",
        "takes a sentence from the user,\n",
        "counts the number of each letter of the sentence,\n",
        "collects the letters/chars as a key and the counted numbers as a value in a dictionary."
      ]
    },
    {
      "cell_type": "code",
      "metadata": {
        "colab": {
          "base_uri": "https://localhost:8080/"
        },
        "id": "Dy7r62aLEOfC",
        "outputId": "380bf9b3-e269-40f5-a8da-fd59e61c7aee"
      },
      "source": [
        "text = \"hippo runs to us!\"\n",
        "letters = []\n",
        "counts = [] \n",
        "for i in text: \n",
        "  if i not in letters:\n",
        "    letters.append(i)\n",
        "    counts.append(text.count(i))\n",
        "letters_chars = {key:value for key, value in zip(letters, counts)} \n",
        "\n",
        "print(letters_chars)"
      ],
      "execution_count": 9,
      "outputs": [
        {
          "output_type": "stream",
          "text": [
            "{'h': 1, 'i': 1, 'p': 2, 'o': 2, ' ': 3, 'r': 1, 'u': 2, 'n': 1, 's': 2, 't': 1, '!': 1}\n"
          ],
          "name": "stdout"
        }
      ]
    }
  ]
}
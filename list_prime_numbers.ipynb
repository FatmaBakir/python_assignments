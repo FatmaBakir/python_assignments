{
  "nbformat": 4,
  "nbformat_minor": 0,
  "metadata": {
    "colab": {
      "name": "list_prime_numbers.ipynb",
      "provenance": []
    },
    "kernelspec": {
      "name": "python3",
      "display_name": "Python 3"
    },
    "language_info": {
      "name": "python"
    }
  },
  "cells": [
    {
      "cell_type": "markdown",
      "metadata": {
        "id": "jVBHlOHRNFgZ"
      },
      "source": [
        "###Task : Print the prime numbers which are between 1 to entered limit number (n).\n",
        "\n",
        "You can use a nested for loop.\n",
        "\n",
        "Collect all these numbers into a list\n",
        "\n",
        "The desired output for n=100 :\n",
        "\n",
        "[2, 3, 5, 7, 11, 13, 17, 19, 23, 29, 31, 37, 41, 43, 47, 53, 59,\n",
        "61, 67, 71, 73, 79, 83, 89, 97]"
      ]
    },
    {
      "cell_type": "code",
      "metadata": {
        "colab": {
          "base_uri": "https://localhost:8080/"
        },
        "id": "dzz8ZJvWNXgi",
        "outputId": "5ed4fdb6-c7d6-4e20-f5b9-a7c0393da503"
      },
      "source": [
        "n = int(input(\"Please enter a number: \"))\n",
        "prime_list = []\n",
        " \n",
        "  \n",
        "for x in range(1, n + 1):  \n",
        "   if x > 1:  \n",
        "       for i in range(2, x):  \n",
        "           if (x % i) == 0:  \n",
        "               break  \n",
        "       else:  \n",
        "           prime_list.append(x)  \n",
        "  \n",
        "print(prime_list) \n",
        "  \n",
        "\n",
        "\n"
      ],
      "execution_count": 24,
      "outputs": [
        {
          "output_type": "stream",
          "text": [
            "Please enter a number: 100\n",
            "[2, 3, 5, 7, 11, 13, 17, 19, 23, 29, 31, 37, 41, 43, 47, 53, 59, 61, 67, 71, 73, 79, 83, 89, 97]\n"
          ],
          "name": "stdout"
        }
      ]
    }
  ]
}